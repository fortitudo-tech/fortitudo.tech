{
 "cells": [
  {
   "cell_type": "markdown",
   "id": "8313274d",
   "metadata": {},
   "source": [
    "# The Normal Distribution Myth\n",
    "This is the accompanying code to The Normal Distribution Myth article available on SSRN: https://ssrn.com/abstract=5283255 "
   ]
  },
  {
   "cell_type": "code",
   "execution_count": 1,
   "id": "b23ed69c",
   "metadata": {},
   "outputs": [],
   "source": [
    "import numpy as np\n",
    "import yfinance as yf\n",
    "import fortitudo.tech as ft\n",
    "import matplotlib.pyplot as plt\n",
    "from scipy.stats import normaltest, shapiro, anderson"
   ]
  },
  {
   "cell_type": "markdown",
   "id": "6c08240b",
   "metadata": {},
   "source": [
    "# Index data download"
   ]
  },
  {
   "cell_type": "code",
   "execution_count": 2,
   "id": "bcda616f",
   "metadata": {},
   "outputs": [
    {
     "name": "stdout",
     "output_type": "stream",
     "text": [
      "YF.download() has changed argument auto_adjust default to True\n"
     ]
    },
    {
     "name": "stderr",
     "output_type": "stream",
     "text": [
      "[*********************100%***********************]  10 of 10 completed"
     ]
    },
    {
     "name": "stdout",
     "output_type": "stream",
     "text": [
      "The number of daily observations is 6652.\n"
     ]
    },
    {
     "name": "stderr",
     "output_type": "stream",
     "text": [
      "\n"
     ]
    }
   ],
   "source": [
    "tickers = [\n",
    "    'XLB', 'XLE', 'XLF', 'XLI', 'XLK',\n",
    "    'XLP', 'XLU', 'XLV', 'XLY', '^GSPC']\n",
    "data = yf.download(tickers, start='1998-12-22', end='2025-06-04')['Close']\n",
    "\n",
    "names_dict = {\n",
    "    'XLB': 'Materials', 'XLE': 'Energy', 'XLF': 'Financial', 'XLI': 'Industrial',\n",
    "    'XLK': 'Technology', 'XLP': 'Consumer Staples', 'XLU': 'Utilities',\n",
    "    'XLV': 'Health Care', 'XLY': 'Consumer Discretionary', '^GSPC': 'S&P 500'}\n",
    "data = data.rename(columns=names_dict)\n",
    "\n",
    "print(f'The number of daily observations is {len(data)}.')"
   ]
  },
  {
   "cell_type": "code",
   "execution_count": 3,
   "id": "e58f0e72",
   "metadata": {},
   "outputs": [
    {
     "data": {
      "text/html": [
       "<div>\n",
       "<style scoped>\n",
       "    .dataframe tbody tr th:only-of-type {\n",
       "        vertical-align: middle;\n",
       "    }\n",
       "\n",
       "    .dataframe tbody tr th {\n",
       "        vertical-align: top;\n",
       "    }\n",
       "\n",
       "    .dataframe thead th {\n",
       "        text-align: right;\n",
       "    }\n",
       "</style>\n",
       "<table border=\"1\" class=\"dataframe\">\n",
       "  <thead>\n",
       "    <tr style=\"text-align: right;\">\n",
       "      <th>Ticker</th>\n",
       "      <th>Materials</th>\n",
       "      <th>Energy</th>\n",
       "      <th>Financial</th>\n",
       "      <th>Industrial</th>\n",
       "      <th>Technology</th>\n",
       "      <th>Consumer Staples</th>\n",
       "      <th>Utilities</th>\n",
       "      <th>Health Care</th>\n",
       "      <th>Consumer Discretionary</th>\n",
       "      <th>S&amp;P 500</th>\n",
       "    </tr>\n",
       "    <tr>\n",
       "      <th>Date</th>\n",
       "      <th></th>\n",
       "      <th></th>\n",
       "      <th></th>\n",
       "      <th></th>\n",
       "      <th></th>\n",
       "      <th></th>\n",
       "      <th></th>\n",
       "      <th></th>\n",
       "      <th></th>\n",
       "      <th></th>\n",
       "    </tr>\n",
       "  </thead>\n",
       "  <tbody>\n",
       "    <tr>\n",
       "      <th>1998-12-22</th>\n",
       "      <td>11.660132</td>\n",
       "      <td>11.841606</td>\n",
       "      <td>11.335839</td>\n",
       "      <td>14.626601</td>\n",
       "      <td>23.982897</td>\n",
       "      <td>14.372804</td>\n",
       "      <td>11.996542</td>\n",
       "      <td>17.089306</td>\n",
       "      <td>18.907131</td>\n",
       "      <td>1203.569946</td>\n",
       "    </tr>\n",
       "    <tr>\n",
       "      <th>1998-12-23</th>\n",
       "      <td>11.782592</td>\n",
       "      <td>12.088138</td>\n",
       "      <td>11.502984</td>\n",
       "      <td>14.881826</td>\n",
       "      <td>24.555855</td>\n",
       "      <td>14.720261</td>\n",
       "      <td>11.946264</td>\n",
       "      <td>17.473326</td>\n",
       "      <td>18.988335</td>\n",
       "      <td>1228.540039</td>\n",
       "    </tr>\n",
       "    <tr>\n",
       "      <th>1998-12-24</th>\n",
       "      <td>12.053755</td>\n",
       "      <td>12.024517</td>\n",
       "      <td>11.578967</td>\n",
       "      <td>15.078157</td>\n",
       "      <td>24.462311</td>\n",
       "      <td>14.694834</td>\n",
       "      <td>12.166215</td>\n",
       "      <td>17.580004</td>\n",
       "      <td>19.336325</td>\n",
       "      <td>1226.270020</td>\n",
       "    </tr>\n",
       "    <tr>\n",
       "      <th>1998-12-28</th>\n",
       "      <td>11.948791</td>\n",
       "      <td>11.960894</td>\n",
       "      <td>11.427016</td>\n",
       "      <td>15.156695</td>\n",
       "      <td>24.532473</td>\n",
       "      <td>14.610084</td>\n",
       "      <td>12.103374</td>\n",
       "      <td>17.323994</td>\n",
       "      <td>19.162334</td>\n",
       "      <td>1225.489990</td>\n",
       "    </tr>\n",
       "    <tr>\n",
       "      <th>1998-12-29</th>\n",
       "      <td>12.167470</td>\n",
       "      <td>12.080186</td>\n",
       "      <td>11.548581</td>\n",
       "      <td>15.372657</td>\n",
       "      <td>24.602633</td>\n",
       "      <td>14.932120</td>\n",
       "      <td>12.304464</td>\n",
       "      <td>17.708014</td>\n",
       "      <td>19.579914</td>\n",
       "      <td>1241.810059</td>\n",
       "    </tr>\n",
       "    <tr>\n",
       "      <th>...</th>\n",
       "      <td>...</td>\n",
       "      <td>...</td>\n",
       "      <td>...</td>\n",
       "      <td>...</td>\n",
       "      <td>...</td>\n",
       "      <td>...</td>\n",
       "      <td>...</td>\n",
       "      <td>...</td>\n",
       "      <td>...</td>\n",
       "      <td>...</td>\n",
       "    </tr>\n",
       "    <tr>\n",
       "      <th>2025-05-28</th>\n",
       "      <td>86.010002</td>\n",
       "      <td>81.650002</td>\n",
       "      <td>50.590000</td>\n",
       "      <td>142.600006</td>\n",
       "      <td>231.240005</td>\n",
       "      <td>81.779999</td>\n",
       "      <td>80.529999</td>\n",
       "      <td>131.479996</td>\n",
       "      <td>214.880005</td>\n",
       "      <td>5888.549805</td>\n",
       "    </tr>\n",
       "    <tr>\n",
       "      <th>2025-05-29</th>\n",
       "      <td>86.330002</td>\n",
       "      <td>82.260002</td>\n",
       "      <td>50.849998</td>\n",
       "      <td>142.729996</td>\n",
       "      <td>231.630005</td>\n",
       "      <td>82.110001</td>\n",
       "      <td>81.089996</td>\n",
       "      <td>132.360001</td>\n",
       "      <td>214.970001</td>\n",
       "      <td>5912.169922</td>\n",
       "    </tr>\n",
       "    <tr>\n",
       "      <th>2025-05-30</th>\n",
       "      <td>86.339996</td>\n",
       "      <td>81.529999</td>\n",
       "      <td>50.959999</td>\n",
       "      <td>142.820007</td>\n",
       "      <td>230.910004</td>\n",
       "      <td>82.830002</td>\n",
       "      <td>81.919998</td>\n",
       "      <td>132.639999</td>\n",
       "      <td>213.800003</td>\n",
       "      <td>5911.689941</td>\n",
       "    </tr>\n",
       "    <tr>\n",
       "      <th>2025-06-02</th>\n",
       "      <td>86.849998</td>\n",
       "      <td>82.599998</td>\n",
       "      <td>50.980000</td>\n",
       "      <td>142.639999</td>\n",
       "      <td>232.949997</td>\n",
       "      <td>82.879997</td>\n",
       "      <td>82.180000</td>\n",
       "      <td>132.720001</td>\n",
       "      <td>214.300003</td>\n",
       "      <td>5935.939941</td>\n",
       "    </tr>\n",
       "    <tr>\n",
       "      <th>2025-06-03</th>\n",
       "      <td>87.739998</td>\n",
       "      <td>83.580002</td>\n",
       "      <td>51.080002</td>\n",
       "      <td>143.740005</td>\n",
       "      <td>236.449997</td>\n",
       "      <td>82.800003</td>\n",
       "      <td>82.400002</td>\n",
       "      <td>133.029999</td>\n",
       "      <td>215.440002</td>\n",
       "      <td>5970.370117</td>\n",
       "    </tr>\n",
       "  </tbody>\n",
       "</table>\n",
       "<p>6652 rows × 10 columns</p>\n",
       "</div>"
      ],
      "text/plain": [
       "Ticker      Materials     Energy  Financial  Industrial  Technology  \\\n",
       "Date                                                                  \n",
       "1998-12-22  11.660132  11.841606  11.335839   14.626601   23.982897   \n",
       "1998-12-23  11.782592  12.088138  11.502984   14.881826   24.555855   \n",
       "1998-12-24  12.053755  12.024517  11.578967   15.078157   24.462311   \n",
       "1998-12-28  11.948791  11.960894  11.427016   15.156695   24.532473   \n",
       "1998-12-29  12.167470  12.080186  11.548581   15.372657   24.602633   \n",
       "...               ...        ...        ...         ...         ...   \n",
       "2025-05-28  86.010002  81.650002  50.590000  142.600006  231.240005   \n",
       "2025-05-29  86.330002  82.260002  50.849998  142.729996  231.630005   \n",
       "2025-05-30  86.339996  81.529999  50.959999  142.820007  230.910004   \n",
       "2025-06-02  86.849998  82.599998  50.980000  142.639999  232.949997   \n",
       "2025-06-03  87.739998  83.580002  51.080002  143.740005  236.449997   \n",
       "\n",
       "Ticker      Consumer Staples  Utilities  Health Care  Consumer Discretionary  \\\n",
       "Date                                                                           \n",
       "1998-12-22         14.372804  11.996542    17.089306               18.907131   \n",
       "1998-12-23         14.720261  11.946264    17.473326               18.988335   \n",
       "1998-12-24         14.694834  12.166215    17.580004               19.336325   \n",
       "1998-12-28         14.610084  12.103374    17.323994               19.162334   \n",
       "1998-12-29         14.932120  12.304464    17.708014               19.579914   \n",
       "...                      ...        ...          ...                     ...   \n",
       "2025-05-28         81.779999  80.529999   131.479996              214.880005   \n",
       "2025-05-29         82.110001  81.089996   132.360001              214.970001   \n",
       "2025-05-30         82.830002  81.919998   132.639999              213.800003   \n",
       "2025-06-02         82.879997  82.180000   132.720001              214.300003   \n",
       "2025-06-03         82.800003  82.400002   133.029999              215.440002   \n",
       "\n",
       "Ticker          S&P 500  \n",
       "Date                     \n",
       "1998-12-22  1203.569946  \n",
       "1998-12-23  1228.540039  \n",
       "1998-12-24  1226.270020  \n",
       "1998-12-28  1225.489990  \n",
       "1998-12-29  1241.810059  \n",
       "...                 ...  \n",
       "2025-05-28  5888.549805  \n",
       "2025-05-29  5912.169922  \n",
       "2025-05-30  5911.689941  \n",
       "2025-06-02  5935.939941  \n",
       "2025-06-03  5970.370117  \n",
       "\n",
       "[6652 rows x 10 columns]"
      ]
     },
     "execution_count": 3,
     "metadata": {},
     "output_type": "execute_result"
    }
   ],
   "source": [
    "data"
   ]
  },
  {
   "cell_type": "code",
   "execution_count": 4,
   "id": "2ea2d882",
   "metadata": {},
   "outputs": [
    {
     "name": "stdout",
     "output_type": "stream",
     "text": [
      "26.4 years of daily data.\n",
      "100 days remaining.\n"
     ]
    }
   ],
   "source": [
    "print(f'{np.round(len(data) / 252, 2)} years of daily data.')\n",
    "remainder_days = len(data) % 252\n",
    "print(f'{remainder_days} days remaining.')"
   ]
  },
  {
   "cell_type": "markdown",
   "id": "61e7e0bf",
   "metadata": {},
   "source": [
    "# Log returns computation"
   ]
  },
  {
   "cell_type": "code",
   "execution_count": 5,
   "id": "1b316a44",
   "metadata": {},
   "outputs": [],
   "source": [
    "horizons = [1, 21, 63, 252]\n",
    "log_prices = np.log(data.values)\n",
    "log_returns_daily = log_prices[horizons[0]:] - log_prices[:-horizons[0]]\n",
    "log_returns_monthly = log_prices[horizons[1]:] - log_prices[:-horizons[1]]\n",
    "log_returns_quarterly = log_prices[horizons[2]:] - log_prices[:-horizons[2]]\n",
    "log_returns_yearly = log_prices[horizons[3]:] - log_prices[:-horizons[3]]"
   ]
  },
  {
   "cell_type": "code",
   "execution_count": 6,
   "id": "10346262",
   "metadata": {},
   "outputs": [
    {
     "data": {
      "text/html": [
       "<div>\n",
       "<style scoped>\n",
       "    .dataframe tbody tr th:only-of-type {\n",
       "        vertical-align: middle;\n",
       "    }\n",
       "\n",
       "    .dataframe tbody tr th {\n",
       "        vertical-align: top;\n",
       "    }\n",
       "\n",
       "    .dataframe thead th {\n",
       "        text-align: right;\n",
       "    }\n",
       "</style>\n",
       "<table border=\"1\" class=\"dataframe\">\n",
       "  <thead>\n",
       "    <tr style=\"text-align: right;\">\n",
       "      <th></th>\n",
       "      <th>Mean</th>\n",
       "      <th>Volatility</th>\n",
       "      <th>Skewness</th>\n",
       "      <th>Kurtosis</th>\n",
       "    </tr>\n",
       "    <tr>\n",
       "      <th>Ticker</th>\n",
       "      <th></th>\n",
       "      <th></th>\n",
       "      <th></th>\n",
       "      <th></th>\n",
       "    </tr>\n",
       "  </thead>\n",
       "  <tbody>\n",
       "    <tr>\n",
       "      <th>Materials</th>\n",
       "      <td>0.030344</td>\n",
       "      <td>1.500359</td>\n",
       "      <td>-0.193979</td>\n",
       "      <td>9.483975</td>\n",
       "    </tr>\n",
       "    <tr>\n",
       "      <th>Energy</th>\n",
       "      <td>0.029382</td>\n",
       "      <td>1.826690</td>\n",
       "      <td>-0.630118</td>\n",
       "      <td>15.066172</td>\n",
       "    </tr>\n",
       "    <tr>\n",
       "      <th>Financial</th>\n",
       "      <td>0.022635</td>\n",
       "      <td>1.807850</td>\n",
       "      <td>-0.134710</td>\n",
       "      <td>17.509720</td>\n",
       "    </tr>\n",
       "    <tr>\n",
       "      <th>Industrial</th>\n",
       "      <td>0.034358</td>\n",
       "      <td>1.341978</td>\n",
       "      <td>-0.334193</td>\n",
       "      <td>10.851814</td>\n",
       "    </tr>\n",
       "    <tr>\n",
       "      <th>Technology</th>\n",
       "      <td>0.034407</td>\n",
       "      <td>1.640848</td>\n",
       "      <td>0.088359</td>\n",
       "      <td>9.884640</td>\n",
       "    </tr>\n",
       "    <tr>\n",
       "      <th>Consumer Staples</th>\n",
       "      <td>0.026328</td>\n",
       "      <td>0.964260</td>\n",
       "      <td>-0.239685</td>\n",
       "      <td>10.942803</td>\n",
       "    </tr>\n",
       "    <tr>\n",
       "      <th>Utilities</th>\n",
       "      <td>0.028973</td>\n",
       "      <td>1.222527</td>\n",
       "      <td>-0.051895</td>\n",
       "      <td>14.083450</td>\n",
       "    </tr>\n",
       "    <tr>\n",
       "      <th>Health Care</th>\n",
       "      <td>0.030854</td>\n",
       "      <td>1.130872</td>\n",
       "      <td>-0.216691</td>\n",
       "      <td>11.779079</td>\n",
       "    </tr>\n",
       "    <tr>\n",
       "      <th>Consumer Discretionary</th>\n",
       "      <td>0.036583</td>\n",
       "      <td>1.439790</td>\n",
       "      <td>-0.347540</td>\n",
       "      <td>9.531116</td>\n",
       "    </tr>\n",
       "    <tr>\n",
       "      <th>S&amp;P 500</th>\n",
       "      <td>0.024079</td>\n",
       "      <td>1.227349</td>\n",
       "      <td>-0.331202</td>\n",
       "      <td>13.208427</td>\n",
       "    </tr>\n",
       "  </tbody>\n",
       "</table>\n",
       "</div>"
      ],
      "text/plain": [
       "                            Mean  Volatility  Skewness   Kurtosis\n",
       "Ticker                                                           \n",
       "Materials               0.030344    1.500359 -0.193979   9.483975\n",
       "Energy                  0.029382    1.826690 -0.630118  15.066172\n",
       "Financial               0.022635    1.807850 -0.134710  17.509720\n",
       "Industrial              0.034358    1.341978 -0.334193  10.851814\n",
       "Technology              0.034407    1.640848  0.088359   9.884640\n",
       "Consumer Staples        0.026328    0.964260 -0.239685  10.942803\n",
       "Utilities               0.028973    1.222527 -0.051895  14.083450\n",
       "Health Care             0.030854    1.130872 -0.216691  11.779079\n",
       "Consumer Discretionary  0.036583    1.439790 -0.347540   9.531116\n",
       "S&P 500                 0.024079    1.227349 -0.331202  13.208427"
      ]
     },
     "execution_count": 6,
     "metadata": {},
     "output_type": "execute_result"
    }
   ],
   "source": [
    "stats = ft.simulation_moments(100 * log_returns_daily)\n",
    "stats.index = data.columns\n",
    "stats"
   ]
  },
  {
   "cell_type": "markdown",
   "id": "cf8ca821",
   "metadata": {},
   "source": [
    "# Normality tests for daily data"
   ]
  },
  {
   "cell_type": "code",
   "execution_count": 7,
   "id": "3ef82cab",
   "metadata": {},
   "outputs": [
    {
     "data": {
      "text/plain": [
       "array([8.61488251e-203, 0.00000000e+000, 0.00000000e+000, 1.93623461e-245,\n",
       "       8.72954351e-204, 5.97254730e-235, 2.03875612e-269, 1.54565750e-246,\n",
       "       2.22125129e-222, 4.70279943e-282])"
      ]
     },
     "execution_count": 7,
     "metadata": {},
     "output_type": "execute_result"
    }
   ],
   "source": [
    "res = normaltest(log_returns_daily)\n",
    "res.pvalue"
   ]
  },
  {
   "cell_type": "code",
   "execution_count": 8,
   "id": "a6232672",
   "metadata": {},
   "outputs": [
    {
     "name": "stderr",
     "output_type": "stream",
     "text": [
      "/home/anton/miniconda3/envs/fortitudo.tech/lib/python3.13/site-packages/scipy/stats/_axis_nan_policy.py:657: UserWarning: scipy.stats.shapiro: For N > 5000, computed p-value may not be accurate. Current N is 6651.\n",
      "  return result_to_tuple(hypotest_fun_out(*samples, **kwds), n_out)\n"
     ]
    },
    {
     "data": {
      "text/plain": [
       "array([2.70726234e-45, 9.87263019e-52, 6.04496505e-62, 2.10649772e-49,\n",
       "       1.07359180e-48, 3.60304195e-48, 1.21090335e-52, 6.72535835e-49,\n",
       "       7.72865550e-47, 8.20517005e-54])"
      ]
     },
     "execution_count": 8,
     "metadata": {},
     "output_type": "execute_result"
    }
   ],
   "source": [
    "res1 = shapiro(log_returns_daily, axis=0)\n",
    "res1.pvalue"
   ]
  },
  {
   "cell_type": "code",
   "execution_count": 9,
   "id": "2d6e372d",
   "metadata": {},
   "outputs": [
    {
     "data": {
      "text/plain": [
       "[(np.float64(64.08182778376249), np.float64(0.787)),\n",
       " (np.float64(71.91646026366743), np.float64(0.787)),\n",
       " (np.float64(185.83503833766554), np.float64(0.787)),\n",
       " (np.float64(86.59496899321493), np.float64(0.787)),\n",
       " (np.float64(103.10136559280454), np.float64(0.787)),\n",
       " (np.float64(71.37908610299837), np.float64(0.787)),\n",
       " (np.float64(81.80474005745964), np.float64(0.787)),\n",
       " (np.float64(72.32862081507665), np.float64(0.787)),\n",
       " (np.float64(81.18921435872107), np.float64(0.787)),\n",
       " (np.float64(118.82778544585017), np.float64(0.787))]"
      ]
     },
     "execution_count": 9,
     "metadata": {},
     "output_type": "execute_result"
    }
   ],
   "source": [
    "res2 = []\n",
    "I = data.shape[1]\n",
    "for i in range(I):\n",
    "    res_anderson = anderson(log_returns_daily[:, i])\n",
    "    res2.append((res_anderson.statistic, res_anderson.critical_values[2]))\n",
    "res2"
   ]
  },
  {
   "cell_type": "code",
   "execution_count": 10,
   "id": "9e9c6a25",
   "metadata": {},
   "outputs": [],
   "source": [
    "k2 = np.full((remainder_days, I, 3), np.nan)  # 3 horizons: monthly, quarterly, and yearly\n",
    "shapiro_p = np.full((remainder_days, I, 3), np.nan)\n",
    "anderson_statistic = np.full((remainder_days, I, 3), np.nan)"
   ]
  },
  {
   "cell_type": "markdown",
   "id": "0b2bc2b6",
   "metadata": {},
   "source": [
    "# Normality tests for montly, quarterly, and yearly non-overlapping returs"
   ]
  },
  {
   "cell_type": "code",
   "execution_count": 11,
   "id": "e66e7b33",
   "metadata": {},
   "outputs": [],
   "source": [
    "for test in range(remainder_days):\n",
    "    k2[test, :, 0] = normaltest(log_returns_monthly[test:-(remainder_days-test):horizons[1]]).pvalue\n",
    "    k2[test, :, 1] = normaltest(log_returns_quarterly[test:-(remainder_days-test):horizons[2]]).pvalue\n",
    "    k2[test, :, 2] = normaltest(log_returns_yearly[test:-(remainder_days-test):horizons[3]]).pvalue\n",
    "    shapiro_p[test, :, 0] = shapiro(log_returns_monthly[test:-(remainder_days-test):horizons[1]], axis=0).pvalue\n",
    "    shapiro_p[test, :, 1] = shapiro(log_returns_quarterly[test:-(remainder_days-test):horizons[2]], axis=0).pvalue\n",
    "    shapiro_p[test, :, 2] = shapiro(log_returns_yearly[test:-(remainder_days-test):horizons[3]], axis=0).pvalue\n",
    "    for i in range(I):\n",
    "        anderson_statistic[test, i, 0] = anderson(log_returns_monthly[test:-(remainder_days-test):horizons[1], i]).statistic\n",
    "        anderson_statistic[test, i, 1] = anderson(log_returns_quarterly[test:-(remainder_days-test):horizons[2], i]).statistic\n",
    "        anderson_statistic[test, i, 2] = anderson(log_returns_yearly[test:-(remainder_days-test):horizons[3], i]).statistic\n",
    "\n",
    "anderson_5p_critical_value = anderson(log_returns_monthly[test:-(remainder_days-test):horizons[3], i]).critical_values[2]"
   ]
  },
  {
   "cell_type": "markdown",
   "id": "641fa9df",
   "metadata": {},
   "source": [
    "# Yearly return tests illustration for specific index"
   ]
  },
  {
   "cell_type": "code",
   "execution_count": 12,
   "id": "7c0d9bd8",
   "metadata": {},
   "outputs": [
    {
     "name": "stdout",
     "output_type": "stream",
     "text": [
      "Showing normality test results for S&P 500 over 252 trading days.\n"
     ]
    },
    {
     "data": {
      "image/png": "[encoded data removed]",
      "text/plain": [
       "<Figure size 640x480 with 1 Axes>"
      ]
     },
     "metadata": {},
     "output_type": "display_data"
    },
    {
     "data": {
      "image/png": "[encoded data removed]",
      "text/plain": [
       "<Figure size 640x480 with 1 Axes>"
      ]
     },
     "metadata": {},
     "output_type": "display_data"
    },
    {
     "data": {
      "image/png": "[encoded data removed]",
      "text/plain": [
       "<Figure size 640x480 with 1 Axes>"
      ]
     },
     "metadata": {},
     "output_type": "display_data"
    }
   ],
   "source": [
    "index = 9\n",
    "horizon = 3\n",
    "print(f'Showing normality test results for {data.columns[index]} over {horizons[horizon]} trading days.')\n",
    "\n",
    "# Figure 1\n",
    "plt.hist(k2[:, index, horizon-1], bins=14, range=(0, 0.35))\n",
    "plt.ylim(0, 100)\n",
    "plt.xlim(0, 0.35)\n",
    "plt.title(f\"D'Agostino K-squared normality test for {data.columns[index]}\")\n",
    "plt.xlabel('p-value')\n",
    "plt.ylabel('%')\n",
    "plt.show()\n",
    "\n",
    "# Figure 2\n",
    "plt.hist(shapiro_p[:, index, horizon-1], bins=14, range=(0, 0.35))\n",
    "plt.ylim(0, 100)\n",
    "plt.xlim(0, 0.35)\n",
    "plt.title(f'Shapiro-Wilk normality test for {data.columns[index]}')\n",
    "plt.xlabel('p-value')\n",
    "plt.ylabel('%')\n",
    "plt.show()\n",
    "\n",
    "# Figure 3\n",
    "plt.hist(anderson_statistic[:, index, horizon-1], bins=20)\n",
    "plt.ylim(0, 15)\n",
    "plt.title(f'Anderson-Darling normality test for {data.columns[index]}')\n",
    "plt.xlabel(f'Test statistic (5% critical value = {anderson_5p_critical_value})')\n",
    "plt.ylabel('%')\n",
    "plt.show()"
   ]
  }
 ],
 "metadata": {
  "kernelspec": {
   "display_name": "fortitudo.tech",
   "language": "python",
   "name": "python3"
  },
  "language_info": {
   "codemirror_mode": {
    "name": "ipython",
    "version": 3
   },
   "file_extension": ".py",
   "mimetype": "text/x-python",
   "name": "python",
   "nbconvert_exporter": "python",
   "pygments_lexer": "ipython3",
   "version": "3.13.1"
  }
 },
 "nbformat": 4,
 "nbformat_minor": 5
}
