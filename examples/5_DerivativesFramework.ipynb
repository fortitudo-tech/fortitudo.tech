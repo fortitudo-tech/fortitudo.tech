{
 "cells": [
  {
   "cell_type": "markdown",
   "metadata": {},
   "source": [
    "# Derivatives framework example\n",
    "This example is the accompanied code to https://ssrn.com/abstract=4217884. It illustrates how to use the relative market values v parameter in MeanCVaR and MeanVariance."
   ]
  },
  {
   "cell_type": "code",
   "execution_count": 1,
   "metadata": {},
   "outputs": [],
   "source": [
    "import numpy as np\n",
    "import pandas as pd\n",
    "import seaborn as sns\n",
    "import fortitudo.tech as ft\n",
    "import matplotlib.pyplot as plt"
   ]
  },
  {
   "cell_type": "code",
   "execution_count": 2,
   "metadata": {},
   "outputs": [
    {
     "data": {
      "text/html": [
       "<div>\n",
       "<style scoped>\n",
       "    .dataframe tbody tr th:only-of-type {\n",
       "        vertical-align: middle;\n",
       "    }\n",
       "\n",
       "    .dataframe tbody tr th {\n",
       "        vertical-align: top;\n",
       "    }\n",
       "\n",
       "    .dataframe thead th {\n",
       "        text-align: right;\n",
       "    }\n",
       "</style>\n",
       "<table border=\"1\" class=\"dataframe\">\n",
       "  <thead>\n",
       "    <tr style=\"text-align: right;\">\n",
       "      <th></th>\n",
       "      <th>Mean</th>\n",
       "      <th>Volatility</th>\n",
       "      <th>Skewness</th>\n",
       "      <th>Kurtosis</th>\n",
       "    </tr>\n",
       "  </thead>\n",
       "  <tbody>\n",
       "    <tr>\n",
       "      <th>Gov &amp; MBS</th>\n",
       "      <td>-0.007</td>\n",
       "      <td>0.032</td>\n",
       "      <td>0.096</td>\n",
       "      <td>3.023</td>\n",
       "    </tr>\n",
       "    <tr>\n",
       "      <th>Corp IG</th>\n",
       "      <td>-0.004</td>\n",
       "      <td>0.034</td>\n",
       "      <td>0.107</td>\n",
       "      <td>3.109</td>\n",
       "    </tr>\n",
       "    <tr>\n",
       "      <th>Corp HY</th>\n",
       "      <td>0.019</td>\n",
       "      <td>0.061</td>\n",
       "      <td>0.173</td>\n",
       "      <td>2.971</td>\n",
       "    </tr>\n",
       "    <tr>\n",
       "      <th>EM Debt</th>\n",
       "      <td>0.027</td>\n",
       "      <td>0.075</td>\n",
       "      <td>0.217</td>\n",
       "      <td>3.057</td>\n",
       "    </tr>\n",
       "    <tr>\n",
       "      <th>DM Equity</th>\n",
       "      <td>0.064</td>\n",
       "      <td>0.149</td>\n",
       "      <td>0.396</td>\n",
       "      <td>3.148</td>\n",
       "    </tr>\n",
       "    <tr>\n",
       "      <th>EM Equity</th>\n",
       "      <td>0.080</td>\n",
       "      <td>0.269</td>\n",
       "      <td>0.766</td>\n",
       "      <td>4.099</td>\n",
       "    </tr>\n",
       "    <tr>\n",
       "      <th>Private Equity</th>\n",
       "      <td>0.137</td>\n",
       "      <td>0.278</td>\n",
       "      <td>0.716</td>\n",
       "      <td>3.758</td>\n",
       "    </tr>\n",
       "    <tr>\n",
       "      <th>Infrastructure</th>\n",
       "      <td>0.059</td>\n",
       "      <td>0.108</td>\n",
       "      <td>0.311</td>\n",
       "      <td>3.193</td>\n",
       "    </tr>\n",
       "    <tr>\n",
       "      <th>Real Estate</th>\n",
       "      <td>0.043</td>\n",
       "      <td>0.081</td>\n",
       "      <td>0.234</td>\n",
       "      <td>3.092</td>\n",
       "    </tr>\n",
       "    <tr>\n",
       "      <th>Hedge Funds</th>\n",
       "      <td>0.048</td>\n",
       "      <td>0.072</td>\n",
       "      <td>0.204</td>\n",
       "      <td>3.050</td>\n",
       "    </tr>\n",
       "  </tbody>\n",
       "</table>\n",
       "</div>"
      ],
      "text/plain": [
       "                 Mean  Volatility  Skewness  Kurtosis\n",
       "Gov & MBS      -0.007       0.032     0.096     3.023\n",
       "Corp IG        -0.004       0.034     0.107     3.109\n",
       "Corp HY         0.019       0.061     0.173     2.971\n",
       "EM Debt         0.027       0.075     0.217     3.057\n",
       "DM Equity       0.064       0.149     0.396     3.148\n",
       "EM Equity       0.080       0.269     0.766     4.099\n",
       "Private Equity  0.137       0.278     0.716     3.758\n",
       "Infrastructure  0.059       0.108     0.311     3.193\n",
       "Real Estate     0.043       0.081     0.234     3.092\n",
       "Hedge Funds     0.048       0.072     0.204     3.050"
      ]
     },
     "execution_count": 2,
     "metadata": {},
     "output_type": "execute_result"
    }
   ],
   "source": [
    "pnl = ft.load_pnl()\n",
    "np.round(ft.simulation_moments(pnl), 3)"
   ]
  },
  {
   "cell_type": "code",
   "execution_count": 3,
   "metadata": {},
   "outputs": [],
   "source": [
    "# Price some options\n",
    "put_90 = ft.put_option(1, 0.9, 0.16, 0, 1)\n",
    "put_95 = ft.put_option(1, 0.95, 0.155, 0, 1)\n",
    "put_atmf = ft.put_option(1, 1, 0.15, 0, 1)\n",
    "call_atmf = ft.call_option(1, 1, 0.15, 0, 1)\n",
    "call_105 = ft.call_option(1, 1.05, 0.145, 0, 1)\n",
    "call_110 = ft.call_option(1, 1.1, 0.14, 0, 1)\n",
    "\n",
    "# Compute relative P&L\n",
    "S, I = pnl.shape\n",
    "zeros_vec = np.zeros(S)\n",
    "dm_equity_price = 1 + pnl['DM Equity'].values\n",
    "\n",
    "put_90_pnl = np.maximum(zeros_vec, 0.9 - dm_equity_price) - put_90\n",
    "put_95_pnl = np.maximum(zeros_vec, 0.95 - dm_equity_price) - put_95\n",
    "put_atmf_pnl = np.maximum(zeros_vec, 1 - dm_equity_price) - put_atmf\n",
    "call_atmf_pnl = np.maximum(zeros_vec, dm_equity_price - 1) - call_atmf\n",
    "call_105_pnl = np.maximum(zeros_vec, dm_equity_price - 1.05) - call_105\n",
    "call_110_pnl = np.maximum(zeros_vec, dm_equity_price - 1.1) - call_110"
   ]
  },
  {
   "cell_type": "code",
   "execution_count": 4,
   "metadata": {},
   "outputs": [
    {
     "data": {
      "image/png": "[encoded data removed]",
      "text/plain": [
       "<Figure size 640x480 with 1 Axes>"
      ]
     },
     "metadata": {},
     "output_type": "display_data"
    }
   ],
   "source": [
    "# Plot ATMF P&L vs underlying for illustration\n",
    "plt.scatter(pnl['DM Equity'], call_atmf_pnl, marker='.')\n",
    "plt.scatter(pnl['DM Equity'], put_atmf_pnl, marker='.')\n",
    "plt.title('ATMF options P&L')\n",
    "plt.legend(['ATMF Call', 'ATMF Put'])\n",
    "plt.ylabel('Option return')\n",
    "plt.xlabel('DM Equity return')\n",
    "plt.show()"
   ]
  },
  {
   "cell_type": "code",
   "execution_count": 5,
   "metadata": {},
   "outputs": [
    {
     "data": {
      "text/html": [
       "<div>\n",
       "<style scoped>\n",
       "    .dataframe tbody tr th:only-of-type {\n",
       "        vertical-align: middle;\n",
       "    }\n",
       "\n",
       "    .dataframe tbody tr th {\n",
       "        vertical-align: top;\n",
       "    }\n",
       "\n",
       "    .dataframe thead th {\n",
       "        text-align: right;\n",
       "    }\n",
       "</style>\n",
       "<table border=\"1\" class=\"dataframe\">\n",
       "  <thead>\n",
       "    <tr style=\"text-align: right;\">\n",
       "      <th></th>\n",
       "      <th>Mean</th>\n",
       "      <th>Volatility</th>\n",
       "      <th>Skewness</th>\n",
       "      <th>Kurtosis</th>\n",
       "    </tr>\n",
       "  </thead>\n",
       "  <tbody>\n",
       "    <tr>\n",
       "      <th>Gov &amp; MBS</th>\n",
       "      <td>-0.007</td>\n",
       "      <td>0.032</td>\n",
       "      <td>0.096</td>\n",
       "      <td>3.023</td>\n",
       "    </tr>\n",
       "    <tr>\n",
       "      <th>Corp IG</th>\n",
       "      <td>-0.004</td>\n",
       "      <td>0.034</td>\n",
       "      <td>0.107</td>\n",
       "      <td>3.109</td>\n",
       "    </tr>\n",
       "    <tr>\n",
       "      <th>Corp HY</th>\n",
       "      <td>0.019</td>\n",
       "      <td>0.061</td>\n",
       "      <td>0.173</td>\n",
       "      <td>2.971</td>\n",
       "    </tr>\n",
       "    <tr>\n",
       "      <th>EM Debt</th>\n",
       "      <td>0.027</td>\n",
       "      <td>0.075</td>\n",
       "      <td>0.217</td>\n",
       "      <td>3.057</td>\n",
       "    </tr>\n",
       "    <tr>\n",
       "      <th>DM Equity</th>\n",
       "      <td>0.064</td>\n",
       "      <td>0.149</td>\n",
       "      <td>0.396</td>\n",
       "      <td>3.148</td>\n",
       "    </tr>\n",
       "    <tr>\n",
       "      <th>EM Equity</th>\n",
       "      <td>0.080</td>\n",
       "      <td>0.269</td>\n",
       "      <td>0.766</td>\n",
       "      <td>4.099</td>\n",
       "    </tr>\n",
       "    <tr>\n",
       "      <th>Private Equity</th>\n",
       "      <td>0.137</td>\n",
       "      <td>0.278</td>\n",
       "      <td>0.716</td>\n",
       "      <td>3.758</td>\n",
       "    </tr>\n",
       "    <tr>\n",
       "      <th>Infrastructure</th>\n",
       "      <td>0.059</td>\n",
       "      <td>0.108</td>\n",
       "      <td>0.311</td>\n",
       "      <td>3.193</td>\n",
       "    </tr>\n",
       "    <tr>\n",
       "      <th>Real Estate</th>\n",
       "      <td>0.043</td>\n",
       "      <td>0.081</td>\n",
       "      <td>0.234</td>\n",
       "      <td>3.092</td>\n",
       "    </tr>\n",
       "    <tr>\n",
       "      <th>Hedge Funds</th>\n",
       "      <td>0.048</td>\n",
       "      <td>0.072</td>\n",
       "      <td>0.204</td>\n",
       "      <td>3.050</td>\n",
       "    </tr>\n",
       "    <tr>\n",
       "      <th>Put 90</th>\n",
       "      <td>-0.016</td>\n",
       "      <td>0.026</td>\n",
       "      <td>4.316</td>\n",
       "      <td>23.824</td>\n",
       "    </tr>\n",
       "    <tr>\n",
       "      <th>Put 95</th>\n",
       "      <td>-0.022</td>\n",
       "      <td>0.040</td>\n",
       "      <td>2.966</td>\n",
       "      <td>12.238</td>\n",
       "    </tr>\n",
       "    <tr>\n",
       "      <th>Put ATMF</th>\n",
       "      <td>-0.029</td>\n",
       "      <td>0.057</td>\n",
       "      <td>2.069</td>\n",
       "      <td>6.960</td>\n",
       "    </tr>\n",
       "    <tr>\n",
       "      <th>Call ATMF</th>\n",
       "      <td>0.035</td>\n",
       "      <td>0.114</td>\n",
       "      <td>1.327</td>\n",
       "      <td>4.539</td>\n",
       "    </tr>\n",
       "    <tr>\n",
       "      <th>Call 105</th>\n",
       "      <td>0.029</td>\n",
       "      <td>0.098</td>\n",
       "      <td>1.764</td>\n",
       "      <td>6.149</td>\n",
       "    </tr>\n",
       "    <tr>\n",
       "      <th>Call 110</th>\n",
       "      <td>0.022</td>\n",
       "      <td>0.081</td>\n",
       "      <td>2.328</td>\n",
       "      <td>8.940</td>\n",
       "    </tr>\n",
       "  </tbody>\n",
       "</table>\n",
       "</div>"
      ],
      "text/plain": [
       "                 Mean  Volatility  Skewness  Kurtosis\n",
       "Gov & MBS      -0.007       0.032     0.096     3.023\n",
       "Corp IG        -0.004       0.034     0.107     3.109\n",
       "Corp HY         0.019       0.061     0.173     2.971\n",
       "EM Debt         0.027       0.075     0.217     3.057\n",
       "DM Equity       0.064       0.149     0.396     3.148\n",
       "EM Equity       0.080       0.269     0.766     4.099\n",
       "Private Equity  0.137       0.278     0.716     3.758\n",
       "Infrastructure  0.059       0.108     0.311     3.193\n",
       "Real Estate     0.043       0.081     0.234     3.092\n",
       "Hedge Funds     0.048       0.072     0.204     3.050\n",
       "Put 90         -0.016       0.026     4.316    23.824\n",
       "Put 95         -0.022       0.040     2.966    12.238\n",
       "Put ATMF       -0.029       0.057     2.069     6.960\n",
       "Call ATMF       0.035       0.114     1.327     4.539\n",
       "Call 105        0.029       0.098     1.764     6.149\n",
       "Call 110        0.022       0.081     2.328     8.940"
      ]
     },
     "execution_count": 5,
     "metadata": {},
     "output_type": "execute_result"
    }
   ],
   "source": [
    "# Add option simulations to P&L\n",
    "pnl['Put 90'] = put_90_pnl\n",
    "pnl['Put 95'] = put_95_pnl\n",
    "pnl['Put ATMF'] = put_atmf_pnl\n",
    "pnl['Call ATMF'] = call_atmf_pnl\n",
    "pnl['Call 105'] = call_105_pnl\n",
    "pnl['Call 110'] = call_110_pnl\n",
    "\n",
    "stats_prior = ft.simulation_moments(pnl)\n",
    "np.round(stats_prior, 3)"
   ]
  },
  {
   "cell_type": "code",
   "execution_count": 6,
   "metadata": {},
   "outputs": [
    {
     "data": {
      "image/png": "[encoded data removed]",
      "text/plain": [
       "<Figure size 640x480 with 1 Axes>"
      ]
     },
     "metadata": {},
     "output_type": "display_data"
    }
   ],
   "source": [
    "# Plot option P&L distributions\n",
    "pnl.iloc[:, -6:].plot(kind='density')\n",
    "plt.xlim([-0.1, 0.1])\n",
    "plt.xlabel('Relative P&L')\n",
    "plt.show()"
   ]
  },
  {
   "cell_type": "markdown",
   "metadata": {},
   "source": [
    "# Prior portfolio optimization"
   ]
  },
  {
   "cell_type": "code",
   "execution_count": 7,
   "metadata": {},
   "outputs": [],
   "source": [
    "# Optimization constraints\n",
    "v = np.hstack((np.ones(I), [put_90, put_95, put_atmf, call_atmf, call_105, call_110]))\n",
    "G = np.vstack((np.eye(len(v)), -np.eye(len(v))))\n",
    "options_bounds = 0.5 * np.ones(6)\n",
    "h = np.hstack((0.25 * np.ones(I), options_bounds, np.zeros(I), options_bounds))"
   ]
  },
  {
   "cell_type": "code",
   "execution_count": 8,
   "metadata": {},
   "outputs": [
    {
     "data": {
      "text/html": [
       "<div>\n",
       "<style scoped>\n",
       "    .dataframe tbody tr th:only-of-type {\n",
       "        vertical-align: middle;\n",
       "    }\n",
       "\n",
       "    .dataframe tbody tr th {\n",
       "        vertical-align: top;\n",
       "    }\n",
       "\n",
       "    .dataframe thead th {\n",
       "        text-align: right;\n",
       "    }\n",
       "</style>\n",
       "<table border=\"1\" class=\"dataframe\">\n",
       "  <thead>\n",
       "    <tr style=\"text-align: right;\">\n",
       "      <th></th>\n",
       "      <th>90%-CVaR optimized</th>\n",
       "      <th>Variance optimized</th>\n",
       "    </tr>\n",
       "  </thead>\n",
       "  <tbody>\n",
       "    <tr>\n",
       "      <th>Gov &amp; MBS</th>\n",
       "      <td>-0.00</td>\n",
       "      <td>0.00</td>\n",
       "    </tr>\n",
       "    <tr>\n",
       "      <th>Corp IG</th>\n",
       "      <td>0.00</td>\n",
       "      <td>0.00</td>\n",
       "    </tr>\n",
       "    <tr>\n",
       "      <th>Corp HY</th>\n",
       "      <td>0.00</td>\n",
       "      <td>0.00</td>\n",
       "    </tr>\n",
       "    <tr>\n",
       "      <th>EM Debt</th>\n",
       "      <td>15.05</td>\n",
       "      <td>17.76</td>\n",
       "    </tr>\n",
       "    <tr>\n",
       "      <th>DM Equity</th>\n",
       "      <td>16.81</td>\n",
       "      <td>11.98</td>\n",
       "    </tr>\n",
       "    <tr>\n",
       "      <th>EM Equity</th>\n",
       "      <td>0.00</td>\n",
       "      <td>0.00</td>\n",
       "    </tr>\n",
       "    <tr>\n",
       "      <th>Private Equity</th>\n",
       "      <td>4.81</td>\n",
       "      <td>3.83</td>\n",
       "    </tr>\n",
       "    <tr>\n",
       "      <th>Infrastructure</th>\n",
       "      <td>18.60</td>\n",
       "      <td>22.82</td>\n",
       "    </tr>\n",
       "    <tr>\n",
       "      <th>Real Estate</th>\n",
       "      <td>18.44</td>\n",
       "      <td>21.94</td>\n",
       "    </tr>\n",
       "    <tr>\n",
       "      <th>Hedge Funds</th>\n",
       "      <td>25.00</td>\n",
       "      <td>25.00</td>\n",
       "    </tr>\n",
       "    <tr>\n",
       "      <th>Put 90</th>\n",
       "      <td>-50.00</td>\n",
       "      <td>-50.00</td>\n",
       "    </tr>\n",
       "    <tr>\n",
       "      <th>Put 95</th>\n",
       "      <td>-0.31</td>\n",
       "      <td>-50.00</td>\n",
       "    </tr>\n",
       "    <tr>\n",
       "      <th>Put ATMF</th>\n",
       "      <td>50.00</td>\n",
       "      <td>35.61</td>\n",
       "    </tr>\n",
       "    <tr>\n",
       "      <th>Call ATMF</th>\n",
       "      <td>-50.00</td>\n",
       "      <td>-49.99</td>\n",
       "    </tr>\n",
       "    <tr>\n",
       "      <th>Call 105</th>\n",
       "      <td>36.50</td>\n",
       "      <td>1.69</td>\n",
       "    </tr>\n",
       "    <tr>\n",
       "      <th>Call 110</th>\n",
       "      <td>50.00</td>\n",
       "      <td>25.71</td>\n",
       "    </tr>\n",
       "  </tbody>\n",
       "</table>\n",
       "</div>"
      ],
      "text/plain": [
       "                90%-CVaR optimized  Variance optimized\n",
       "Gov & MBS                    -0.00                0.00\n",
       "Corp IG                       0.00                0.00\n",
       "Corp HY                       0.00                0.00\n",
       "EM Debt                      15.05               17.76\n",
       "DM Equity                    16.81               11.98\n",
       "EM Equity                     0.00                0.00\n",
       "Private Equity                4.81                3.83\n",
       "Infrastructure               18.60               22.82\n",
       "Real Estate                  18.44               21.94\n",
       "Hedge Funds                  25.00               25.00\n",
       "Put 90                      -50.00              -50.00\n",
       "Put 95                       -0.31              -50.00\n",
       "Put ATMF                     50.00               35.61\n",
       "Call ATMF                   -50.00              -49.99\n",
       "Call 105                     36.50                1.69\n",
       "Call 110                     50.00               25.71"
      ]
     },
     "execution_count": 8,
     "metadata": {},
     "output_type": "execute_result"
    }
   ],
   "source": [
    "R = pnl.values\n",
    "\n",
    "alpha = 0.9\n",
    "cvar_opt_prior = ft.MeanCVaR(R, G, h, v=v, alpha=alpha)\n",
    "\n",
    "mean_prior = stats_prior['Mean'].values\n",
    "cov_prior = ft.covariance_matrix(pnl).values\n",
    "var_opt_prior = ft.MeanVariance(mean_prior, cov_prior, G, h, v=v)\n",
    "\n",
    "port_cvar = cvar_opt_prior.efficient_portfolio(0.05)\n",
    "port_var = var_opt_prior.efficient_portfolio(0.05)\n",
    "prior_results = np.hstack((port_cvar, port_var))\n",
    "\n",
    "portfolio_names = [f'{int(100 * alpha)}%-CVaR optimized', 'Variance optimized']\n",
    "pd.DataFrame(\n",
    "    np.round(100 * prior_results, 2), index=pnl.columns, columns=portfolio_names)"
   ]
  },
  {
   "cell_type": "code",
   "execution_count": 9,
   "metadata": {},
   "outputs": [
    {
     "name": "stdout",
     "output_type": "stream",
     "text": [
      "Portfolio exposures: [1.35 0.16].\n",
      "Portfolio market values: [1. 1.].\n"
     ]
    }
   ],
   "source": [
    "print(f'Portfolio exposures: {np.round(np.sum(prior_results, axis=0), 2)}.')\n",
    "print(f'Portfolio market values: {v @ prior_results}.')"
   ]
  },
  {
   "cell_type": "code",
   "execution_count": 10,
   "metadata": {},
   "outputs": [
    {
     "data": {
      "image/png": "[encoded data removed]",
      "text/plain": [
       "<Figure size 640x480 with 1 Axes>"
      ]
     },
     "metadata": {},
     "output_type": "display_data"
    }
   ],
   "source": [
    "# Plot portfolio P&L distributions\n",
    "pfs_pnl = pd.DataFrame(pnl.values @ prior_results, columns=portfolio_names)\n",
    "\n",
    "pfs_pnl.plot(kind='density')\n",
    "plt.title('Prior optimization')\n",
    "plt.xlim([-0.2, 0.5])\n",
    "plt.xlabel('Portfolio return')\n",
    "plt.show()"
   ]
  },
  {
   "cell_type": "code",
   "execution_count": 11,
   "metadata": {},
   "outputs": [
    {
     "data": {
      "text/html": [
       "<div>\n",
       "<style scoped>\n",
       "    .dataframe tbody tr th:only-of-type {\n",
       "        vertical-align: middle;\n",
       "    }\n",
       "\n",
       "    .dataframe tbody tr th {\n",
       "        vertical-align: top;\n",
       "    }\n",
       "\n",
       "    .dataframe thead th {\n",
       "        text-align: right;\n",
       "    }\n",
       "</style>\n",
       "<table border=\"1\" class=\"dataframe\">\n",
       "  <thead>\n",
       "    <tr style=\"text-align: right;\">\n",
       "      <th></th>\n",
       "      <th>90%-CVaR optimized</th>\n",
       "      <th>Variance optimized</th>\n",
       "    </tr>\n",
       "  </thead>\n",
       "  <tbody>\n",
       "    <tr>\n",
       "      <th>Vol</th>\n",
       "      <td>8.2</td>\n",
       "      <td>5.9</td>\n",
       "    </tr>\n",
       "    <tr>\n",
       "      <th>VaR</th>\n",
       "      <td>4.7</td>\n",
       "      <td>5.2</td>\n",
       "    </tr>\n",
       "    <tr>\n",
       "      <th>CVaR</th>\n",
       "      <td>6.7</td>\n",
       "      <td>10.4</td>\n",
       "    </tr>\n",
       "  </tbody>\n",
       "</table>\n",
       "</div>"
      ],
      "text/plain": [
       "      90%-CVaR optimized  Variance optimized\n",
       "Vol                  8.2                 5.9\n",
       "VaR                  4.7                 5.2\n",
       "CVaR                 6.7                10.4"
      ]
     },
     "metadata": {},
     "output_type": "display_data"
    }
   ],
   "source": [
    "vol = ft.portfolio_vol(prior_results, R)\n",
    "var = ft.portfolio_var(prior_results, R, demean=False)\n",
    "cvar = ft.portfolio_cvar(prior_results, R, demean=False)\n",
    "risk_prior = np.vstack((vol, var, cvar))\n",
    "display(np.round(pd.DataFrame(\n",
    "    100 * risk_prior, index=['Vol', 'VaR', 'CVaR'], columns=portfolio_names), 1))"
   ]
  },
  {
   "cell_type": "code",
   "execution_count": 12,
   "metadata": {},
   "outputs": [
    {
     "data": {
      "text/plain": [
       "90%-CVaR optimized   -0.16\n",
       "Variance optimized   -0.30\n",
       "dtype: float64"
      ]
     },
     "execution_count": 12,
     "metadata": {},
     "output_type": "execute_result"
    }
   ],
   "source": [
    "np.round(np.min(pfs_pnl, axis=0), 2)"
   ]
  },
  {
   "cell_type": "code",
   "execution_count": 13,
   "metadata": {},
   "outputs": [
    {
     "data": {
      "text/plain": [
       "90%-CVaR optimized    0.57\n",
       "Variance optimized    0.25\n",
       "dtype: float64"
      ]
     },
     "execution_count": 13,
     "metadata": {},
     "output_type": "execute_result"
    }
   ],
   "source": [
    "np.round(np.max(pfs_pnl, axis=0), 2)"
   ]
  },
  {
   "cell_type": "markdown",
   "metadata": {},
   "source": [
    "# Entropy Pooling views"
   ]
  },
  {
   "cell_type": "code",
   "execution_count": 14,
   "metadata": {},
   "outputs": [],
   "source": [
    "dm_eqt_pnl = pnl['DM Equity'].values[np.newaxis, :]\n",
    "dm_eqt_mean = mean_prior[4]\n",
    "dm_eqt_demean = dm_eqt_pnl - dm_eqt_mean\n",
    "p = np.ones((S, 1)) / S\n",
    "\n",
    "A_ep = np.vstack((\n",
    "    np.ones((1, S)), dm_eqt_pnl, dm_eqt_demean**2,\n",
    "    (dm_eqt_demean / 0.2)**3, (dm_eqt_demean / 0.2)**4))\n",
    "b_ep = np.array([[1.], [dm_eqt_mean], [0.2**2], [-0.1], [2.75]])\n",
    "\n",
    "q = ft.entropy_pooling(p, A_ep, b_ep)"
   ]
  },
  {
   "cell_type": "code",
   "execution_count": 15,
   "metadata": {},
   "outputs": [
    {
     "data": {
      "text/html": [
       "<div>\n",
       "<style scoped>\n",
       "    .dataframe tbody tr th:only-of-type {\n",
       "        vertical-align: middle;\n",
       "    }\n",
       "\n",
       "    .dataframe tbody tr th {\n",
       "        vertical-align: top;\n",
       "    }\n",
       "\n",
       "    .dataframe thead th {\n",
       "        text-align: right;\n",
       "    }\n",
       "</style>\n",
       "<table border=\"1\" class=\"dataframe\">\n",
       "  <thead>\n",
       "    <tr style=\"text-align: right;\">\n",
       "      <th></th>\n",
       "      <th>Mean</th>\n",
       "      <th>Volatility</th>\n",
       "      <th>Skewness</th>\n",
       "      <th>Kurtosis</th>\n",
       "    </tr>\n",
       "  </thead>\n",
       "  <tbody>\n",
       "    <tr>\n",
       "      <th>Gov &amp; MBS</th>\n",
       "      <td>-0.007</td>\n",
       "      <td>0.032</td>\n",
       "      <td>0.043</td>\n",
       "      <td>2.999</td>\n",
       "    </tr>\n",
       "    <tr>\n",
       "      <th>Corp IG</th>\n",
       "      <td>-0.004</td>\n",
       "      <td>0.033</td>\n",
       "      <td>0.152</td>\n",
       "      <td>3.140</td>\n",
       "    </tr>\n",
       "    <tr>\n",
       "      <th>Corp HY</th>\n",
       "      <td>0.017</td>\n",
       "      <td>0.071</td>\n",
       "      <td>-0.010</td>\n",
       "      <td>2.792</td>\n",
       "    </tr>\n",
       "    <tr>\n",
       "      <th>EM Debt</th>\n",
       "      <td>0.025</td>\n",
       "      <td>0.082</td>\n",
       "      <td>0.083</td>\n",
       "      <td>3.104</td>\n",
       "    </tr>\n",
       "    <tr>\n",
       "      <th>DM Equity</th>\n",
       "      <td>0.064</td>\n",
       "      <td>0.200</td>\n",
       "      <td>-0.100</td>\n",
       "      <td>2.750</td>\n",
       "    </tr>\n",
       "    <tr>\n",
       "      <th>EM Equity</th>\n",
       "      <td>0.080</td>\n",
       "      <td>0.326</td>\n",
       "      <td>0.571</td>\n",
       "      <td>4.035</td>\n",
       "    </tr>\n",
       "    <tr>\n",
       "      <th>Private Equity</th>\n",
       "      <td>0.142</td>\n",
       "      <td>0.339</td>\n",
       "      <td>0.441</td>\n",
       "      <td>3.247</td>\n",
       "    </tr>\n",
       "    <tr>\n",
       "      <th>Infrastructure</th>\n",
       "      <td>0.058</td>\n",
       "      <td>0.114</td>\n",
       "      <td>0.303</td>\n",
       "      <td>3.082</td>\n",
       "    </tr>\n",
       "    <tr>\n",
       "      <th>Real Estate</th>\n",
       "      <td>0.040</td>\n",
       "      <td>0.090</td>\n",
       "      <td>0.114</td>\n",
       "      <td>2.962</td>\n",
       "    </tr>\n",
       "    <tr>\n",
       "      <th>Hedge Funds</th>\n",
       "      <td>0.045</td>\n",
       "      <td>0.093</td>\n",
       "      <td>-0.220</td>\n",
       "      <td>3.012</td>\n",
       "    </tr>\n",
       "    <tr>\n",
       "      <th>Put 90</th>\n",
       "      <td>0.004</td>\n",
       "      <td>0.063</td>\n",
       "      <td>2.348</td>\n",
       "      <td>7.224</td>\n",
       "    </tr>\n",
       "    <tr>\n",
       "      <th>Put 95</th>\n",
       "      <td>0.000</td>\n",
       "      <td>0.080</td>\n",
       "      <td>2.036</td>\n",
       "      <td>5.830</td>\n",
       "    </tr>\n",
       "    <tr>\n",
       "      <th>Put ATMF</th>\n",
       "      <td>-0.005</td>\n",
       "      <td>0.098</td>\n",
       "      <td>1.750</td>\n",
       "      <td>4.756</td>\n",
       "    </tr>\n",
       "    <tr>\n",
       "      <th>Call ATMF</th>\n",
       "      <td>0.059</td>\n",
       "      <td>0.132</td>\n",
       "      <td>1.164</td>\n",
       "      <td>4.189</td>\n",
       "    </tr>\n",
       "    <tr>\n",
       "      <th>Call 105</th>\n",
       "      <td>0.051</td>\n",
       "      <td>0.116</td>\n",
       "      <td>1.543</td>\n",
       "      <td>5.482</td>\n",
       "    </tr>\n",
       "    <tr>\n",
       "      <th>Call 110</th>\n",
       "      <td>0.041</td>\n",
       "      <td>0.099</td>\n",
       "      <td>2.026</td>\n",
       "      <td>7.630</td>\n",
       "    </tr>\n",
       "  </tbody>\n",
       "</table>\n",
       "</div>"
      ],
      "text/plain": [
       "                 Mean  Volatility  Skewness  Kurtosis\n",
       "Gov & MBS      -0.007       0.032     0.043     2.999\n",
       "Corp IG        -0.004       0.033     0.152     3.140\n",
       "Corp HY         0.017       0.071    -0.010     2.792\n",
       "EM Debt         0.025       0.082     0.083     3.104\n",
       "DM Equity       0.064       0.200    -0.100     2.750\n",
       "EM Equity       0.080       0.326     0.571     4.035\n",
       "Private Equity  0.142       0.339     0.441     3.247\n",
       "Infrastructure  0.058       0.114     0.303     3.082\n",
       "Real Estate     0.040       0.090     0.114     2.962\n",
       "Hedge Funds     0.045       0.093    -0.220     3.012\n",
       "Put 90          0.004       0.063     2.348     7.224\n",
       "Put 95          0.000       0.080     2.036     5.830\n",
       "Put ATMF       -0.005       0.098     1.750     4.756\n",
       "Call ATMF       0.059       0.132     1.164     4.189\n",
       "Call 105        0.051       0.116     1.543     5.482\n",
       "Call 110        0.041       0.099     2.026     7.630"
      ]
     },
     "execution_count": 15,
     "metadata": {},
     "output_type": "execute_result"
    }
   ],
   "source": [
    "stats_post = ft.simulation_moments(pnl, q)\n",
    "np.round(stats_post, 3)"
   ]
  },
  {
   "cell_type": "code",
   "execution_count": 16,
   "metadata": {},
   "outputs": [
    {
     "data": {
      "image/png": "[encoded data removed]",
      "text/plain": [
       "<Figure size 640x480 with 1 Axes>"
      ]
     },
     "metadata": {},
     "output_type": "display_data"
    }
   ],
   "source": [
    "# Plot DM Equity P&L distribution\n",
    "sns.kdeplot(x=pnl['DM Equity'])\n",
    "sns.kdeplot(x=pnl['DM Equity'], weights=q[:, 0])\n",
    "plt.title('DM Equity marginal distributions')\n",
    "plt.legend(['Prior', 'Posterior'])\n",
    "plt.xlabel('DM Equity return')\n",
    "plt.show()"
   ]
  },
  {
   "cell_type": "markdown",
   "metadata": {},
   "source": [
    "# Posterior portfolio optimization\n"
   ]
  },
  {
   "cell_type": "code",
   "execution_count": 17,
   "metadata": {},
   "outputs": [],
   "source": [
    "cvar_opt_post = ft.MeanCVaR(R, G, h, v=v, p=q, alpha=alpha)\n",
    "\n",
    "mean_post = stats_post['Mean'].values\n",
    "cov_post = ft.covariance_matrix(R, q).values\n",
    "var_opt_post = ft.MeanVariance(mean_post, cov_post, G, h, v=v)\n",
    "\n",
    "port_cvar_post = cvar_opt_post.efficient_portfolio(0.05)\n",
    "port_var_post = var_opt_post.efficient_portfolio(0.05)\n",
    "post_results = np.hstack((port_cvar_post, port_var_post))"
   ]
  },
  {
   "cell_type": "code",
   "execution_count": 18,
   "metadata": {},
   "outputs": [
    {
     "data": {
      "text/html": [
       "<div>\n",
       "<style scoped>\n",
       "    .dataframe tbody tr th:only-of-type {\n",
       "        vertical-align: middle;\n",
       "    }\n",
       "\n",
       "    .dataframe tbody tr th {\n",
       "        vertical-align: top;\n",
       "    }\n",
       "\n",
       "    .dataframe thead th {\n",
       "        text-align: right;\n",
       "    }\n",
       "</style>\n",
       "<table border=\"1\" class=\"dataframe\">\n",
       "  <thead>\n",
       "    <tr style=\"text-align: right;\">\n",
       "      <th></th>\n",
       "      <th>90%-CVaR optimized</th>\n",
       "      <th>Variance optimized</th>\n",
       "    </tr>\n",
       "  </thead>\n",
       "  <tbody>\n",
       "    <tr>\n",
       "      <th>Gov &amp; MBS</th>\n",
       "      <td>18.56</td>\n",
       "      <td>0.00</td>\n",
       "    </tr>\n",
       "    <tr>\n",
       "      <th>Corp IG</th>\n",
       "      <td>0.00</td>\n",
       "      <td>0.00</td>\n",
       "    </tr>\n",
       "    <tr>\n",
       "      <th>Corp HY</th>\n",
       "      <td>0.00</td>\n",
       "      <td>0.00</td>\n",
       "    </tr>\n",
       "    <tr>\n",
       "      <th>EM Debt</th>\n",
       "      <td>7.05</td>\n",
       "      <td>17.92</td>\n",
       "    </tr>\n",
       "    <tr>\n",
       "      <th>DM Equity</th>\n",
       "      <td>25.00</td>\n",
       "      <td>1.39</td>\n",
       "    </tr>\n",
       "    <tr>\n",
       "      <th>EM Equity</th>\n",
       "      <td>0.00</td>\n",
       "      <td>0.00</td>\n",
       "    </tr>\n",
       "    <tr>\n",
       "      <th>Private Equity</th>\n",
       "      <td>2.70</td>\n",
       "      <td>5.03</td>\n",
       "    </tr>\n",
       "    <tr>\n",
       "      <th>Infrastructure</th>\n",
       "      <td>9.94</td>\n",
       "      <td>25.00</td>\n",
       "    </tr>\n",
       "    <tr>\n",
       "      <th>Real Estate</th>\n",
       "      <td>9.37</td>\n",
       "      <td>22.68</td>\n",
       "    </tr>\n",
       "    <tr>\n",
       "      <th>Hedge Funds</th>\n",
       "      <td>25.00</td>\n",
       "      <td>25.00</td>\n",
       "    </tr>\n",
       "    <tr>\n",
       "      <th>Put 90</th>\n",
       "      <td>14.27</td>\n",
       "      <td>50.00</td>\n",
       "    </tr>\n",
       "    <tr>\n",
       "      <th>Put 95</th>\n",
       "      <td>-9.41</td>\n",
       "      <td>49.93</td>\n",
       "    </tr>\n",
       "    <tr>\n",
       "      <th>Put ATMF</th>\n",
       "      <td>47.40</td>\n",
       "      <td>-10.30</td>\n",
       "    </tr>\n",
       "    <tr>\n",
       "      <th>Call ATMF</th>\n",
       "      <td>-50.00</td>\n",
       "      <td>4.60</td>\n",
       "    </tr>\n",
       "    <tr>\n",
       "      <th>Call 105</th>\n",
       "      <td>39.37</td>\n",
       "      <td>35.25</td>\n",
       "    </tr>\n",
       "    <tr>\n",
       "      <th>Call 110</th>\n",
       "      <td>50.00</td>\n",
       "      <td>-50.00</td>\n",
       "    </tr>\n",
       "  </tbody>\n",
       "</table>\n",
       "</div>"
      ],
      "text/plain": [
       "                90%-CVaR optimized  Variance optimized\n",
       "Gov & MBS                    18.56                0.00\n",
       "Corp IG                       0.00                0.00\n",
       "Corp HY                       0.00                0.00\n",
       "EM Debt                       7.05               17.92\n",
       "DM Equity                    25.00                1.39\n",
       "EM Equity                     0.00                0.00\n",
       "Private Equity                2.70                5.03\n",
       "Infrastructure                9.94               25.00\n",
       "Real Estate                   9.37               22.68\n",
       "Hedge Funds                  25.00               25.00\n",
       "Put 90                       14.27               50.00\n",
       "Put 95                       -9.41               49.93\n",
       "Put ATMF                     47.40              -10.30\n",
       "Call ATMF                   -50.00                4.60\n",
       "Call 105                     39.37               35.25\n",
       "Call 110                     50.00              -50.00"
      ]
     },
     "execution_count": 18,
     "metadata": {},
     "output_type": "execute_result"
    }
   ],
   "source": [
    "pd.DataFrame(\n",
    "    np.round(100 * post_results, 2), index=pnl.columns, columns=portfolio_names)"
   ]
  },
  {
   "cell_type": "code",
   "execution_count": 19,
   "metadata": {},
   "outputs": [
    {
     "name": "stdout",
     "output_type": "stream",
     "text": [
      "Posterior portfolio exposures: [1.89 1.76].\n",
      "Posterior portfolio market values: [1. 1.].\n"
     ]
    }
   ],
   "source": [
    "print(f'Posterior portfolio exposures: {np.round(np.sum(post_results, axis=0), 2)}.')\n",
    "print(f'Posterior portfolio market values: {v @ post_results}.')"
   ]
  },
  {
   "cell_type": "code",
   "execution_count": 20,
   "metadata": {},
   "outputs": [
    {
     "data": {
      "image/png": "[encoded data removed]",
      "text/plain": [
       "<Figure size 640x480 with 1 Axes>"
      ]
     },
     "metadata": {},
     "output_type": "display_data"
    }
   ],
   "source": [
    "pfs_pnl_post = pnl @ post_results\n",
    "pfs_pnl_post.columns = portfolio_names\n",
    "\n",
    "sns.kdeplot(x=pfs_pnl_post.values[:, 0], weights=q[:, 0])\n",
    "sns.kdeplot(x=pfs_pnl_post.values[:, 1], weights=q[:, 0])\n",
    "plt.title('Posterior optimization')\n",
    "plt.legend(portfolio_names)\n",
    "plt.xlabel('Portfolio return')\n",
    "plt.xlim([-0.2, 0.5])\n",
    "plt.show()"
   ]
  },
  {
   "cell_type": "code",
   "execution_count": 21,
   "metadata": {},
   "outputs": [
    {
     "data": {
      "text/html": [
       "<div>\n",
       "<style scoped>\n",
       "    .dataframe tbody tr th:only-of-type {\n",
       "        vertical-align: middle;\n",
       "    }\n",
       "\n",
       "    .dataframe tbody tr th {\n",
       "        vertical-align: top;\n",
       "    }\n",
       "\n",
       "    .dataframe thead th {\n",
       "        text-align: right;\n",
       "    }\n",
       "</style>\n",
       "<table border=\"1\" class=\"dataframe\">\n",
       "  <thead>\n",
       "    <tr style=\"text-align: right;\">\n",
       "      <th></th>\n",
       "      <th>90%-CVaR optimized</th>\n",
       "      <th>Variance optimized</th>\n",
       "    </tr>\n",
       "  </thead>\n",
       "  <tbody>\n",
       "    <tr>\n",
       "      <th>Vol</th>\n",
       "      <td>8.9</td>\n",
       "      <td>6.3</td>\n",
       "    </tr>\n",
       "    <tr>\n",
       "      <th>VaR</th>\n",
       "      <td>3.6</td>\n",
       "      <td>5.2</td>\n",
       "    </tr>\n",
       "    <tr>\n",
       "      <th>CVaR</th>\n",
       "      <td>4.6</td>\n",
       "      <td>7.3</td>\n",
       "    </tr>\n",
       "  </tbody>\n",
       "</table>\n",
       "</div>"
      ],
      "text/plain": [
       "      90%-CVaR optimized  Variance optimized\n",
       "Vol                  8.9                 6.3\n",
       "VaR                  3.6                 5.2\n",
       "CVaR                 4.6                 7.3"
      ]
     },
     "metadata": {},
     "output_type": "display_data"
    }
   ],
   "source": [
    "vol_post = ft.portfolio_vol(post_results, R, q)\n",
    "var_post = ft.portfolio_var(post_results, R, q, demean=False)\n",
    "cvar_post = ft.portfolio_cvar(post_results, R, q, demean=False)\n",
    "risk_post = np.vstack((vol_post, var_post, cvar_post))\n",
    "display(np.round(pd.DataFrame(\n",
    "    100 * risk_post, index=['Vol', 'VaR', 'CVaR'], columns=portfolio_names), 1))"
   ]
  },
  {
   "cell_type": "code",
   "execution_count": 22,
   "metadata": {},
   "outputs": [
    {
     "data": {
      "text/plain": [
       "90%-CVaR optimized   -0.08\n",
       "Variance optimized   -0.16\n",
       "dtype: float64"
      ]
     },
     "execution_count": 22,
     "metadata": {},
     "output_type": "execute_result"
    }
   ],
   "source": [
    "np.round(np.min(pfs_pnl_post, axis=0), 2)"
   ]
  },
  {
   "cell_type": "code",
   "execution_count": 23,
   "metadata": {},
   "outputs": [
    {
     "data": {
      "text/plain": [
       "90%-CVaR optimized    0.54\n",
       "Variance optimized    0.29\n",
       "dtype: float64"
      ]
     },
     "execution_count": 23,
     "metadata": {},
     "output_type": "execute_result"
    }
   ],
   "source": [
    "np.round(np.max(pfs_pnl_post, axis=0), 2)"
   ]
  },
  {
   "cell_type": "markdown",
   "metadata": {},
   "source": [
    "# License"
   ]
  },
  {
   "cell_type": "code",
   "execution_count": 24,
   "metadata": {},
   "outputs": [],
   "source": [
    "# fortitudo.tech - Novel Investment Technologies.\n",
    "# Copyright (C) 2021-2022 Fortitudo Technologies.\n",
    "\n",
    "# This program is free software: you can redistribute it and/or modify\n",
    "# it under the terms of the GNU General Public License as published by\n",
    "# the Free Software Foundation, either version 3 of the License, or\n",
    "# (at your option) any later version.\n",
    "\n",
    "# This program is distributed in the hope that it will be useful,\n",
    "# but WITHOUT ANY WARRANTY; without even the implied warranty of\n",
    "# MERCHANTABILITY or FITNESS FOR A PARTICULAR PURPOSE. See the\n",
    "# GNU General Public License for more details.\n",
    "\n",
    "# You should have received a copy of the GNU General Public License\n",
    "# along with this program.  If not, see <https://www.gnu.org/licenses/>."
   ]
  }
 ],
 "metadata": {
  "kernelspec": {
   "display_name": "Python 3.9.12 ('fortitudo.tech')",
   "language": "python",
   "name": "python3"
  },
  "language_info": {
   "codemirror_mode": {
    "name": "ipython",
    "version": 3
   },
   "file_extension": ".py",
   "mimetype": "text/x-python",
   "name": "python",
   "nbconvert_exporter": "python",
   "pygments_lexer": "ipython3",
   "version": "3.10.6"
  },
  "orig_nbformat": 4,
  "vscode": {
   "interpreter": {
    "hash": "9172374e710c7274e5b931ab9e79b447ac202c78814c7af0597212ccabe6bde7"
   }
  }
 },
 "nbformat": 4,
 "nbformat_minor": 2
}
